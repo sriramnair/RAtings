{
 "cells": [
  {
   "cell_type": "code",
   "execution_count": 1,
   "id": "9c7a8c35",
   "metadata": {},
   "outputs": [],
   "source": [
    "u = {'Florean Fortescues Ice Cream Parlour':4,\n",
    "    'Jellied Eel Shop':3,\n",
    "    'The Tavern':3,\n",
    "    'Luchino Caffe':1,\n",
    "    'The Porcupine':5,\n",
    "    'Diagon Alley cafe':2,\n",
    "    'The Bear & Staff':2,\n",
    "    'Ministry Munchies':1,\n",
    "    'Chip Shop':3,\n",
    "    'Eternelles Elixir of Refreshment':5,\n",
    "    'Big Bean Shack':3,\n",
    "    'The Club':2\n",
    "\n",
    "}\n"
   ]
  },
  {
   "cell_type": "code",
   "execution_count": null,
   "id": "db5d98dc",
   "metadata": {},
   "outputs": [],
   "source": []
  },
  {
   "cell_type": "code",
   "execution_count": null,
   "id": "520b9eed",
   "metadata": {},
   "outputs": [],
   "source": []
  },
  {
   "cell_type": "code",
   "execution_count": null,
   "id": "b12600c0",
   "metadata": {},
   "outputs": [],
   "source": []
  },
  {
   "cell_type": "code",
   "execution_count": null,
   "id": "a09a2627",
   "metadata": {},
   "outputs": [],
   "source": []
  },
  {
   "cell_type": "code",
   "execution_count": null,
   "id": "4169f889",
   "metadata": {},
   "outputs": [],
   "source": []
  },
  {
   "cell_type": "code",
   "execution_count": null,
   "id": "e086c02b",
   "metadata": {},
   "outputs": [],
   "source": []
  }
 ],
 "metadata": {
  "kernelspec": {
   "display_name": "Python 3",
   "language": "python",
   "name": "python3"
  },
  "language_info": {
   "codemirror_mode": {
    "name": "ipython",
    "version": 3
   },
   "file_extension": ".py",
   "mimetype": "text/x-python",
   "name": "python",
   "nbconvert_exporter": "python",
   "pygments_lexer": "ipython3",
   "version": "3.8.8"
  }
 },
 "nbformat": 4,
 "nbformat_minor": 5
}
